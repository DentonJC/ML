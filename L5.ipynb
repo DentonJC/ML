{
 "cells": [
  {
   "cell_type": "code",
   "execution_count": 1,
   "metadata": {
    "collapsed": true
   },
   "outputs": [],
   "source": [
    "# importy, przydatne funkcje\n",
    "\n",
    "import numpy as np\n",
    "from matplotlib import pyplot as plt\n",
    "from sklearn.linear_model import LinearRegression\n",
    "%matplotlib inline\n",
    "\n",
    "# np.vander(x, degree + 1)\n",
    "# przyjmuje listę liczb x\n",
    "# zwraca tabelę po zmianie zmiennych na wielomian stopnia x\n",
    "# można sobie przetestować dla lepszego zrozumienia\n",
    "\n",
    "def f(size):\n",
    "    '''\n",
    "    zwraca dwie listy przykładowych danych (x i y) o długości 'size'\n",
    "    w tym wypadku przykładowa prawdziwa funkcja to y(x) = 2 * sin(1.5 * x)\n",
    "    '''\n",
    "    x = np.linspace(0, 4.5, size)\n",
    "    y = 2 * np.sin(x * 1.5)\n",
    "    return (x,y)\n",
    "\n",
    "def sample(size):\n",
    "    '''\n",
    "    zwraca dwie listy przykładowych danych (x i y) o długości 'size'\n",
    "    podobnie jak f, ale z dodanym szumem\n",
    "    uwaga - współrzędna x jest \"losowana\" z rozkładu jednostajnego\n",
    "    (dla naszych zastosowań nie robi to większej różnicy, ale porządni informatycy\n",
    "    mogą chcieć zastąpić linspace przez prawdziwe losowanie)\n",
    "    '''\n",
    "    x = np.linspace(0, 4.5, size)\n",
    "    y = 2 * np.sin(x * 1.5) + np.random.randn(x.size)\n",
    "    return (x,y)\n",
    "\n",
    "def fit_polynomial(x, y, degree):\n",
    "    '''\n",
    "    zwraca nauczony model regresji z wielomianową zmianą zmiennych\n",
    "    (x,y): dane treningowe\n",
    "    degree: stopień wielomianu\n",
    "    '''\n",
    "    # To juz umiemy sami zaimplementować!\n",
    "    model = LinearRegression()\n",
    "    model.fit(np.vander(x, degree + 1), y)\n",
    "    return model\n",
    "\n",
    "def apply_polynomial(model, x):\n",
    "    '''\n",
    "    zwraca predykcję nauczonego modelu regresji z wielomianową zmianą zmiennych\n",
    "    x: dane do predykcji\n",
    "    '''\n",
    "    degree = model.coef_.size - 1 # wyciągamy stopień wielomianu z modelu\n",
    "    y = model.predict(np.vander(x, degree + 1))\n",
    "    return y\n",
    "\n",
    "f_x, f_y = f(50) # tym narysujemy sinusa"
   ]
  },
  {
   "cell_type": "markdown",
   "metadata": {},
   "source": [
    "## Ćwiczenie 1 [2 pkt]\n",
    "\n",
    "W idealnym świecie mielibyśmy dostęp do procesu generowania danych i moglibyśmy znaleźć optymalny model (a przynajmniej wybrać stopień wielomianu w regresji liniowej) oraz oszacować jego bias i variance.\n",
    "\n",
    "1. Napisz kod, który dla ustalonego stopnia wielomianu ($K$) liczy bias, variance oraz MSE tego modelu (wielkości te estymujemy podobnie jak w ćwiczeniu 0.).\n",
    "\n",
    "2. Dla jakich wartości $K$ można powiedzieć że mamy model \"High variance/low bias\"?\n",
    "\n",
    "3. Jaka wartość $K$ daje minimum błędu MSE?\n",
    "\n",
    "Jeśli macie Państwo problem z wymyśleniem wzoru na powyższe wielkości, proszę jeszcze raz przeczytać ze zrozumieniem sekcję o rozkładzie błędu. Kluczowe jest to, że bias liczymy średnio po różnych zestawach danych $D$ - czym są w tym wypadku dane $D$? Jak zrobić kilkadziesiąt/set różnych takich zestawów? Czy rozmiar danych $D$ może ulegać zmianie? (jeśli nie, to proszę ustawić go np. na 43 lub inną liczbę tego rzędu).\n",
    "\n",
    "Oczekiwany wynik (z dokładnością do wartości) - poziomo $K$, pionowo bias/variance/MSE: \n",
    "\n",
    "<img src=\"figures/L5/L5_1_wynik.png\">"
   ]
  },
  {
   "cell_type": "code",
   "execution_count": 2,
   "metadata": {},
   "outputs": [
    {
     "data": {
      "image/png": "[encoded data removed]",
      "text/plain": [
       "<matplotlib.figure.Figure at 0x7f01c8a12278>"
      ]
     },
     "metadata": {},
     "output_type": "display_data"
    }
   ],
   "source": [
    "N = 40\n",
    "S = 30\n",
    "\n",
    "smse = []\n",
    "svar = []\n",
    "sbias = []\n",
    "\n",
    "for k in range(0, 15):\n",
    "    y = np.empty((N,S))\n",
    "    y_pred = np.empty((N,S))\n",
    "    \n",
    "    for i in range(N):\n",
    "        x, y[i] = sample(S)\n",
    "        model = fit_polynomial(x, y[i], k)\n",
    "        y_pred[i] = apply_polynomial(model, x)\n",
    "    \n",
    "    var = abs(y_pred - np.mean(y_pred,0)).mean()\n",
    "    bias = abs(np.mean(y_pred,0) - np.mean(y,0)).sum() / S\n",
    "    \n",
    "    svar.append(var)\n",
    "    sbias.append(bias)\n",
    "    smse.append(bias**2 + var)\n",
    "\n",
    "plt.plot(range(1, 15),sbias[1:], label = 'bias', color = 'blue')\n",
    "plt.plot(range(1, 15),svar[1:], label = 'variance', color = 'green')\n",
    "plt.plot(range(1, 15),smse[1:], label = 'error', color = 'red')\n",
    "plt.legend()\n",
    "plt.show()\n"
   ]
  },
  {
   "cell_type": "markdown",
   "metadata": {},
   "source": [
    "## Cwiczenie 2 [1 pkt]\n",
    "\n",
    "Im więcej podziałów w Cross Validation tym mniejczy czy większy variance **estymatora**? A jak zmienia się jego bias? Odpowiedź uzasadnij."
   ]
  },
  {
   "cell_type": "markdown",
   "metadata": {},
   "source": [
    "Lower K is cheaper, less variance, more bias, while higher K is more expensive, more variance, and lower bias. \n",
    "\n",
    "Choose a value (k) too small, and you will drift towards the extremity of using the Validation Set Approach(biased testing). Choose a value too large, and it will be too much of variance in the testing procedure, and computationally intensive. Usually, a value between 5-10 is used in practical Machine Learning scenarios.\n",
    "https://codesachin.wordpress.com/2015/08/30/cross-validation-and-the-bias-variance-tradeoff-for-dummies/"
   ]
  },
  {
   "cell_type": "markdown",
   "metadata": {},
   "source": [
    "## Cwiczenie 3 [1 pkt]\n",
    "\n",
    "Pokaż, że logposterior ($log p(\\theta | X, y)$) dla regresji liniowej ma taką postać jak $C(M)$."
   ]
  },
  {
   "cell_type": "markdown",
   "metadata": {},
   "source": [
    "$ln P(\\theta |X, y) = \\sum_{i} ln(p(y_i|x_i,\\theta )) - ln(p(\\theta )) + ln(p(y|X)) = \\sum_{n=1}^N -\\frac{1}{\\sigma^2}(y_n-w_{n} x_n)^2 - \\lambda w_{2}^2 = \\sum_{n=1}^N -(y_n-f(\\mathbf{x_i}))^2 - \\lambda w_{2}^2 = \\sum_i ( f(\\mathbf{x_i}) - y_i)^2 + \\lambda ||\\mathbf{w}||_2^2 = C(M)$"
   ]
  }
 ],
 "metadata": {
  "kernelspec": {
   "display_name": "Python 3",
   "language": "python",
   "name": "python3"
  },
  "language_info": {
   "codemirror_mode": {
    "name": "ipython",
    "version": 3
   },
   "file_extension": ".py",
   "mimetype": "text/x-python",
   "name": "python",
   "nbconvert_exporter": "python",
   "pygments_lexer": "ipython3",
   "version": "3.6.1"
  },
  "toc": {
   "toc_cell": false,
   "toc_number_sections": true,
   "toc_threshold": 6,
   "toc_window_display": false
  }
 },
 "nbformat": 4,
 "nbformat_minor": 1
}
