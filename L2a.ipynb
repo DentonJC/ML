{
 "cells": [
  {
   "cell_type": "markdown",
   "metadata": {},
   "source": [
    "## Ćwiczenie 4 (1 pkt)\n",
    "\n",
    "Napisać klasę CoinMAP (Maximum A Posteriori) posiadającą metody fit i toss:\n",
    "- konstruktor - przyjmuje prior, który może np. być słownikiem (klucz - $\\theta$, wartość - jej prawdopodobieństwo a priori),\n",
    "- fit - przyjmuje listę obserwacji i uaktualnia self.knowledge, korzystając ze wzoru Bayesa, a następnie ustawia self.theta wybierając odpowiednią wartość z self.knowledge,\n",
    "- toss - generuje jeden rzut monetą z prawdopodobieństwem self.theta i zwraca 0 lub 1."
   ]
  },
  {
   "cell_type": "code",
   "execution_count": 1,
   "metadata": {},
   "outputs": [
    {
     "name": "stdout",
     "output_type": "stream",
     "text": [
      "model.knowledge powinno wyjść {0.5: 0.686, 0.6: 0.314}\n",
      "{0.5: 0.68556676315468579, 0.6: 0.31443323684531421}\n",
      "Powinno wyjść 0.5:0.5\n",
      "Powinno wyjść 1:1.0\n",
      "model.knowledge powinno wyjść {0.5: 0.362, 0.6: 0.265, 0.8: 0.373}\n",
      "{0.5: 0.36171237227008995, 0.6: 0.26543735345984282, 0.8: 0.37285027427006717}\n",
      "Powinno wyjść 0.8:0.8\n",
      "Powinno wyjść 1:1.0\n"
     ]
    }
   ],
   "source": [
    "import numpy as np\n",
    "import matplotlib.pylab as plt\n",
    "from scipy import random, linalg\n",
    "%matplotlib inline \n",
    "\n",
    "class CoinMAP(object):\n",
    "    def __init__(self, prior):\n",
    "        self.knowledge = prior\n",
    "        self.theta = max(self.knowledge.items(), key=lambda th:th[1])[0]\n",
    "          \n",
    "    def fit(self, X):\n",
    "        ones = sum(X)\n",
    "        zeros = len(X) - sum(X)\n",
    "        value_x = 0\n",
    "        for key, value in self.knowledge.items():\n",
    "            value_x += value * key ** ones * (1 - key) ** zeros \n",
    "        for key, value in self.knowledge.items():\n",
    "            self.knowledge[key] = (value * key ** ones * (1 - key) ** zeros) / value_x\n",
    "        self.theta = max(self.knowledge.items(), key=lambda key:key[1])[0]\n",
    "    \n",
    "    def toss(self):\n",
    "        if (self.theta == None):\n",
    "            return print(\"Fit the model first.\")\n",
    "        x = random.random()\n",
    "        if x < self.theta:\n",
    "            return 1\n",
    "        else:\n",
    "            return 0\n",
    "        \n",
    "model = CoinMAP({0.5: 0.8, 0.6: 0.2})\n",
    "model.fit(np.array([1,0,1,1,1,0,0,1,1,1]))\n",
    "print(\"model.knowledge powinno wyjść {0.5: 0.686, 0.6: 0.314}\")\n",
    "print(model.knowledge)\n",
    "print(\"Powinno wyjść 0.5:\" + str(model.theta))\n",
    "print(\"Powinno wyjść 1:\" + str(sum(model.knowledge.values())))\n",
    "\n",
    "model = CoinMAP({0.5: 0.5, 0.6: 0.2, 0.8: 0.3})\n",
    "model.fit(np.array([1,0,1,1,1,0,0,1,1,1]))\n",
    "print(\"model.knowledge powinno wyjść {0.5: 0.362, 0.6: 0.265, 0.8: 0.373}\")\n",
    "print(model.knowledge)\n",
    "print(\"Powinno wyjść 0.8:\" + str(model.theta))\n",
    "print(\"Powinno wyjść 1:\" + str(sum(model.knowledge.values())))"
   ]
  },
  {
   "cell_type": "markdown",
   "metadata": {},
   "source": [
    "## Ćwiczenie 5 (2 pkt)\n",
    "\n",
    "Napisać klasę CoinBest, która działa jak CoinMAP z tą różnicą, że self.theta jest obliczane powyższym wzorem, a nie wybierane spośród wartości self.knowledge."
   ]
  },
  {
   "cell_type": "code",
   "execution_count": 2,
   "metadata": {},
   "outputs": [
    {
     "name": "stdout",
     "output_type": "stream",
     "text": [
      "model.knowledge powinno wyjść {0.5: 0.686, 0.6: 0.314}\n",
      "{0.5: 0.68556676315468579, 0.6: 0.31443323684531421}\n",
      "Powinno wyjść około 0.53: 0.531443323685\n",
      "Powinno wyjść 1: 1.0\n",
      "model.knowledge powinno wyjść {0.5: 0.362, 0.6: 0.265, 0.8: 0.373}\n",
      "{0.5: 0.36171237227008995, 0.6: 0.26543735345984282, 0.8: 0.37285027427006717}\n",
      "Powinno wyjść około 0.64: 0.638398817627\n",
      "Powinno wyjść 1: 1.0\n"
     ]
    }
   ],
   "source": [
    "class CoinBest(object):\n",
    "    def __init__(self, prior):\n",
    "        self.knowledge = prior\n",
    "        self.theta = max(self.knowledge)\n",
    "        \n",
    "    def fit(self, X):\n",
    "        ones = sum(X)\n",
    "        zeros = len(X) - sum(X)\n",
    "        value_x = 0\n",
    "        for key, value in self.knowledge.items():\n",
    "            value_x += value * key ** ones * (1 - key) ** zeros \n",
    "        for key, value in self.knowledge.items():\n",
    "            self.knowledge[key] = (value * key ** ones * (1 - key) ** zeros) / value_x\n",
    "        nsum = 0\n",
    "        for key in self.knowledge:\n",
    "                nsum += key * self.knowledge[key]\n",
    "        self.theta = nsum\n",
    "\n",
    "    def toss(self):\n",
    "        if (self.theta == None):\n",
    "            return print(\"Fit the model first.\")\n",
    "        x = random.random()\n",
    "        if x < self.theta:\n",
    "            return 1\n",
    "        else:\n",
    "            return 0\n",
    "        \n",
    "model = CoinBest({0.5: 0.8, 0.6: 0.2})\n",
    "model.fit(np.array([1,0,1,1,1,0,0,1,1,1]))\n",
    "print(\"model.knowledge powinno wyjść {0.5: 0.686, 0.6: 0.314}\")\n",
    "print(model.knowledge)\n",
    "print(\"Powinno wyjść około 0.53:\", model.theta)\n",
    "print(\"Powinno wyjść 1:\", sum(model.knowledge.values()))\n",
    "\n",
    "model = CoinBest({0.5: 0.5, 0.6: 0.2, 0.8: 0.3})\n",
    "model.fit(np.array([1,0,1,1,1,0,0,1,1,1]))\n",
    "print(\"model.knowledge powinno wyjść {0.5: 0.362, 0.6: 0.265, 0.8: 0.373}\")\n",
    "print(model.knowledge)\n",
    "print(\"Powinno wyjść około 0.64:\", model.theta)\n",
    "print(\"Powinno wyjść 1:\", sum(model.knowledge.values()))"
   ]
  },
  {
   "cell_type": "markdown",
   "metadata": {
    "collapsed": true
   },
   "source": [
    "## Ćwiczenie 6 (1 pkt)\n",
    "\n",
    "Zasymulować metodą Monte Carlo przebieg rozgrywki dla gracza, który:\n",
    "- nie zmienia bramki,\n",
    "- zawsze zmienia bramkę,\n",
    "\n",
    "w przypadku:\n",
    "- zwykłym,\n",
    "- z piorunem, a jeśli trafi w nagrodę to:\n",
    "    - powtórka,\n",
    "    - przegrana.\n",
    "\n",
    "Wypisać średnią wygraną."
   ]
  },
  {
   "cell_type": "code",
   "execution_count": 3,
   "metadata": {},
   "outputs": [
    {
     "name": "stdout",
     "output_type": "stream",
     "text": [
      "Normal game, selected gate: 0.3339 ~1/3\n",
      "Game with lightning, selected gate, with replay: 0.4381 ~1/2\n",
      "Game with lightning, selected gate: 0.3329 ~1/3\n",
      "Normal game, another gate: 0.6665 ~2/3\n",
      "Game with lightning, another gate, with replay: 0.4482 ~1/2\n",
      "Game with lightning, another gate: 0.3371 ~1/3\n"
     ]
    }
   ],
   "source": [
    "from random import randint\n",
    "def game():\n",
    "    gates = [0,1,2]\n",
    "    prize = randint(0,2)  \n",
    "    selected_gate = randint(0,2)\n",
    "    gates.remove(selected_gate)\n",
    "\n",
    "    if(selected_gate != prize):\n",
    "        n_another_gate = prize\n",
    "    else:\n",
    "        n_another_gate = gates[randint(0,1)]\n",
    "    \n",
    "    gates = [0,1,2]\n",
    "    gates.remove(selected_gate)\n",
    "    lightning = gates[randint(0,1)]\n",
    "    gates.remove(lightning)\n",
    "    l_another_gate = gates[0]\n",
    "    return selected_gate, n_another_gate, l_another_gate, lightning, prize\n",
    "    \n",
    "def play(mode):\n",
    "    selected_gate, n_another_gate, l_another_gate, lightning, prize = game()     \n",
    "    if mode == 0 and selected_gate == prize:\n",
    "        return 1\n",
    "    elif mode == 0 and selected_gate != prize:\n",
    "        return 0\n",
    "    elif mode == 1 and n_another_gate == prize:\n",
    "        return 1\n",
    "    elif mode == 1 and n_another_gate != prize:\n",
    "        return 0\n",
    "    elif mode == 2 and lightning == prize:\n",
    "        return 0\n",
    "    elif mode == 2 and selected_gate == prize:\n",
    "        return 1\n",
    "    elif mode == 2 and selected_gate != prize:\n",
    "        return 0   \n",
    "    elif mode == 3 and l_another_gate == prize:\n",
    "        return 1\n",
    "    elif mode == 3 and l_another_gate != prize:\n",
    "        return 0\n",
    "    elif mode == 4 and lightning == prize:\n",
    "        selected_gate, n_another_gate, l_another_gate, lightning, prize = game()\n",
    "        if selected_gate == prize:\n",
    "            return 1\n",
    "        else:\n",
    "            return 0 \n",
    "    elif mode == 4 and selected_gate == prize:\n",
    "        return 1\n",
    "    elif mode == 4 and selected_gate != prize and lightning != prize:\n",
    "        return 0\n",
    "    elif mode == 5 and lightning == prize:\n",
    "        selected_gate, n_another_gate, l_another_gate, lightning, prize = game()\n",
    "        if l_another_gate == prize:\n",
    "            return 1\n",
    "        else:\n",
    "            return 0 \n",
    "    elif mode == 5 and l_another_gate == prize:\n",
    "        return 1\n",
    "    elif mode == 5 and l_another_gate != prize and lightning != prize:\n",
    "        return 0\n",
    "    \n",
    "rounds = 10000\n",
    "\n",
    "results = []\n",
    "for r in range(rounds):\n",
    "    results.append(play(mode=0))\n",
    "print(\"Normal game, selected gate: \" + str(sum(results)/rounds) + \" ~1/3\")\n",
    "\n",
    "results = []\n",
    "for r in range(rounds):\n",
    "    results.append(play(mode=4))\n",
    "print(\"Game with lightning, selected gate, with replay: \" + str(sum(results)/rounds) + \" ~1/2\")\n",
    "\n",
    "results = []\n",
    "for r in range(rounds):\n",
    "    results.append(play(mode=2))\n",
    "print(\"Game with lightning, selected gate: \" + str(sum(results)/rounds) + \" ~1/3\")\n",
    "\n",
    "results = []\n",
    "for r in range(rounds):\n",
    "    results.append(play(mode=1))\n",
    "print(\"Normal game, another gate: \" + str(sum(results)/rounds) + \" ~2/3\")\n",
    "\n",
    "results = []\n",
    "for r in range(rounds):\n",
    "    results.append(play(mode=5))\n",
    "print(\"Game with lightning, another gate, with replay: \" + str(sum(results)/rounds) + \" ~1/2\")\n",
    "\n",
    "results = []\n",
    "for r in range(rounds):\n",
    "    results.append(play(mode=3))\n",
    "print(\"Game with lightning, another gate: \" + str(sum(results)/rounds) + \" ~1/3\")\n",
    "\n",
    "\n",
    "\n",
    "# spodziewany wynik:\n",
    "#  - bez zmiany bramki:\n",
    "#     - zwykły: 1/3\n",
    "#     - piorun z powtórką: 1/2\n",
    "#     - piorun z przegraną: 1/3\n",
    "#  - ze zmianą bramki:\n",
    "#     - zwykły: 2/3\n",
    "#     - piorun z powtórką: 1/2\n",
    "#     - piorun z przegraną: 1/3"
   ]
  },
  {
   "cell_type": "markdown",
   "metadata": {},
   "source": [
    "## Ćwiczenie 7 (1 pkt)\n",
    "\n",
    "Losujemy $k=100$ razy liczbę od $1$ do $m=200$ z rozkładem jednostajnym. Ile średnio różnych liczb wylosujemy?\n",
    "Rozwiązać metodą Monte Carlo.\n",
    "\n",
    "https://math.dartmouth.edu/archive/m19w03/public_html/Section6-5.pdf - czy wynik zgadza się z tw. 6.14?\n"
   ]
  },
  {
   "cell_type": "code",
   "execution_count": 4,
   "metadata": {},
   "outputs": [
    {
     "name": "stdout",
     "output_type": "stream",
     "text": [
      "78.66666666666667=?=78.84591270185442\n"
     ]
    }
   ],
   "source": [
    "def MC(k, m, nb_simulations):\n",
    "    integers = []\n",
    "    for s in range(nb_simulations):\n",
    "        int_set = []\n",
    "        for i in range(k):\n",
    "            new = randint(1,m)\n",
    "            if new not in int_set:\n",
    "                int_set.append(new)\n",
    "        integers.append(len(int_set))\n",
    "    avg_nb_integers = sum(integers) / len(integers)\n",
    "    return avg_nb_integers\n",
    "\n",
    "k = 100\n",
    "m = 200\n",
    "print(str(MC(k, m, nb_simulations=30)) + \"=?=\" + str(m - (m * (1 - 1/float(m))**k)))"
   ]
  },
  {
   "cell_type": "markdown",
   "metadata": {},
   "source": [
    "## Ćwiczenie 8 (2 pkt)\n",
    "\n",
    "Napisać funkcję, która przyjmuje parametry rozkładu normalnego: średnią oraz macierz kowariancji, liczbę sampli, a następnie sampluje punkty z tego rozkładu i rysuje na plaszczyźnie. Ponadto na rysunku należy zaznaczyć strzałkami wektory własne macierzy kowariancji (punkt zaczepienia to średnia rozkładu normalnego) i wypisać odpowiadające im wartości własne.\n",
    "\n",
    "Narysować powyższe dla kilku różnych losowo wybranych średnich i macierzy kowariancji (http://stackoverflow.com/questions/619335/a-simple-algorithm-for-generating-positive-semidefinite-matrices).\n"
   ]
  },
  {
   "cell_type": "code",
   "execution_count": 5,
   "metadata": {},
   "outputs": [
    {
     "name": "stdout",
     "output_type": "stream",
     "text": [
      "wartosci wlasne: [ 0.01092803  0.9387361 ]\n"
     ]
    },
    {
     "data": {
      "image/png": "[encoded data removed]",
      "text/plain": [
       "<matplotlib.figure.Figure at 0x7fac34061ba8>"
      ]
     },
     "metadata": {},
     "output_type": "display_data"
    },
    {
     "name": "stdout",
     "output_type": "stream",
     "text": [
      "wartosci wlasne: [ 1.2049478   0.22872082]\n"
     ]
    },
    {
     "data": {
      "image/png": "[encoded data removed]",
      "text/plain": [
       "<matplotlib.figure.Figure at 0x7fac689bfcf8>"
      ]
     },
     "metadata": {},
     "output_type": "display_data"
    }
   ],
   "source": [
    "def random_cov_matrix(size):\n",
    "    A = np.random.rand(size,size)\n",
    "    return np.dot(A,A.transpose())\n",
    "\n",
    "def sampling(mean, cov, numb):\n",
    "    x = np.random.multivariate_normal(mean, cov, numb)\n",
    "    eigenvalues, eigenvectors = np.linalg.eig(cov)\n",
    "    w, v = np.linalg.eig(cov)\n",
    "    print(\"wartosci wlasne:\", w)\n",
    "    plt.scatter(x[:, 0],x[:, 1],c=\"grey\")\n",
    "    plt.scatter(mean[0],mean[1],c=\"red\", alpha=1, s=10)\n",
    "    \n",
    "    plt.arrow(mean[0], mean[1], w[0]**0.5*v[0][0], w[0]**0.5*v[1][0])\n",
    "    plt.arrow(mean[0], mean[1], w[1]**0.5*v[0][1], w[1]**0.5*v[1][1])\n",
    "    plt.show()\n",
    "    \n",
    "numb = 1000\n",
    "mean = np.random.uniform(-1, 1, size=2)\n",
    "cov = random_cov_matrix(size=2)\n",
    "sampling(mean, cov, numb)\n",
    "\n",
    "mean = np.random.uniform(-1, 1, size=2)\n",
    "cov = random_cov_matrix(size=2)\n",
    "sampling(mean, cov, numb)"
   ]
  },
  {
   "cell_type": "markdown",
   "metadata": {},
   "source": [
    "## Ćwiczenie 9 (4 pkt)\n",
    "\n",
    "Załóżmy, że mamy dane pochodzące dwuwymiarowego rozkładu normalnego o macierzy kowariancji będącej identycznością i średniej $\\mu$. Będziemy estymowali $\\mu$ korzystając z wzoru Bayesa.\n",
    "\n",
    "1. Stworzyć siatkę 100x100 na kwadracie $[0,1]^2$ - to będą nasze potencjalne średnie.\n",
    "2. Wylosować jeden punkt z siatki - to będzie \"prawdziwa\" średnia rozkładu. Oczywiście model jej nie zna.\n",
    "3. Przyjąć jednostajny rozkład a priori (użyć floatów z największą możliwą precyzją), trzymać go w tablicy knowledge.\n",
    "4. Powtórzyć nb_iters razy:\n",
    "    - wygenerować nb_samples sampli z prawdziwego rozkładu,\n",
    "    - uaktualnić knowledge na podstawie obserwacji,\n",
    "    - narysować knowledge jako dwuwymiarowy heatmap.\n",
    "Sprawdzić, co się stanie, gdy:\n",
    "1. Siatka punktów będzie rzadsza, a prawdziwa średnia rozkładu będzie poza siatką.\n",
    "2. Średnia rozkładu znajdzie się całkowicie poza badanym kwadratem, np. w punkcie $(1.2, 0.7)$.\n",
    "3. Na początku wylosujemy 2 punkty z siatki - $\\mu_1$ i $\\mu_2$ - a następnie obserwacje będziemy samplować naprzemian z dwóch rozkładów gaussa, przy czym cały czas estymujemy $\\mu$ tak, jak gdyby istniało dokładnie jedno prawdziwe."
   ]
  },
  {
   "cell_type": "code",
   "execution_count": 6,
   "metadata": {
    "scrolled": false
   },
   "outputs": [
    {
     "data": {
      "image/png": "[encoded data removed]",
      "text/plain": [
       "<matplotlib.figure.Figure at 0x7fac3335a2e8>"
      ]
     },
     "metadata": {},
     "output_type": "display_data"
    },
    {
     "data": {
      "image/png": "[encoded data removed]",
      "text/plain": [
       "<matplotlib.figure.Figure at 0x7fac334c1cc0>"
      ]
     },
     "metadata": {},
     "output_type": "display_data"
    },
    {
     "data": {
      "image/png": "[encoded data removed]",
      "text/plain": [
       "<matplotlib.figure.Figure at 0x7fac33386320>"
      ]
     },
     "metadata": {},
     "output_type": "display_data"
    },
    {
     "data": {
      "image/png": "[encoded data removed]",
      "text/plain": [
       "<matplotlib.figure.Figure at 0x7fac3318b5c0>"
      ]
     },
     "metadata": {},
     "output_type": "display_data"
    }
   ],
   "source": [
    "import math\n",
    "from functools import reduce\n",
    "\n",
    "N = 100\n",
    "nb_iters = 5\n",
    "nb_samples = 100\n",
    "cov = [[1,0],[0,1]]\n",
    "#1\n",
    "x, y = np.meshgrid(np.linspace(0,1,N), np.linspace(0,1,N))\n",
    "grid = np.array([x.flatten(), y.flatten()]).T\n",
    "#2\n",
    "mean = grid[random.randint(0, N*N-1)]\n",
    "\n",
    "def estimate(N, nb_iters, nb_samples, cov, grid, mean):\n",
    "    #3\n",
    "    knowledge = np.full(N*N, 1.0/N*N)\n",
    "    #4\n",
    "    for i in range(nb_iters):\n",
    "        #4.1)\n",
    "        samples = list(random.multivariate_normal(mean, cov, nb_samples))\n",
    "        #4.2)\n",
    "        for j in range(N*N):\n",
    "            m = grid[j]\n",
    "            exps = (math.exp((-(s[0]-m[0])**2-(s[1]-m[1])**2)) for s in samples)\n",
    "            knowledge[j] *= reduce(lambda x,y:x*y, exps) \n",
    "        knowledge /= np.sum(knowledge)\n",
    "    return knowledge\n",
    "    \n",
    "#4.3)\n",
    "def plot(heatmap, mean, N):\n",
    "    fig, ax1 = plt.subplots(1,1)\n",
    "    ax1.matshow(np.array(heatmap.reshape(N,N)), extent=[0,1,0,1])\n",
    "    ax1.scatter(mean[0], 1 - mean[1],c=\"red\", alpha=1, s=10)\n",
    "    plt.show()\n",
    "\n",
    "knowledge = estimate(N, nb_iters, nb_samples, cov, grid, mean)\n",
    "plot(knowledge, mean, N)\n",
    "#5\n",
    "N = 50\n",
    "x, y = np.meshgrid(np.linspace(0,1,N), np.linspace(0,1,N))\n",
    "mean = grid[random.randint(0, N*N-1)]\n",
    "mean[0] += 1\n",
    "mean[1] += 1\n",
    "knowledge = estimate(N, nb_iters, nb_samples, cov, grid, mean)\n",
    "plot(knowledge, mean, N)\n",
    "#6\n",
    "N = 100\n",
    "x, y = np.meshgrid(np.linspace(0,1,N), np.linspace(0,1,N))\n",
    "grid = np.array([x.flatten(), y.flatten()]).T\n",
    "#here enter mean \n",
    "mean = grid[random.randint(0, N*N-1)]\n",
    "knowledge = estimate(N, nb_iters, nb_samples, cov, grid, mean)\n",
    "plot(knowledge, mean, N)\n",
    "#7\n",
    "def estimate3(N, nb_iters, nb_samples, cov, grid, mean1, mean2):\n",
    "    knowledge = np.full(N*N, 1.0/N*N)\n",
    "    flag = False\n",
    "    for i in range(nb_iters):\n",
    "        if flag:\n",
    "            samples = list(random.multivariate_normal(mean1, cov, nb_samples))\n",
    "            flag = False\n",
    "        else:\n",
    "            samples = list(random.multivariate_normal(mean2, cov, nb_samples))\n",
    "            flag = True\n",
    "        \n",
    "        for j in range(N*N):\n",
    "            m = grid[j]\n",
    "            exps = (math.exp((-(s[0]-m[0])**2-(s[1]-m[1])**2)) for s in samples)\n",
    "            knowledge[j] *= reduce(lambda x,y:x*y, exps) \n",
    "        knowledge /= np.sum(knowledge)\n",
    "    return knowledge\n",
    "\n",
    "def estimate2(N, nb_iters, nb_samples, cov, grid, mean1, mean2):\n",
    "    knowledge = np.full(N*N, 1.0/N*N)\n",
    "    for i in range(nb_iters):\n",
    "        samples = []\n",
    "        for n in range(int(nb_samples/2)):\n",
    "            samples += list(random.multivariate_normal(mean1, cov, 1))\n",
    "            samples += list(random.multivariate_normal(mean2, cov, 1))\n",
    "        \n",
    "        for j in range(N*N):\n",
    "            m = grid[j]\n",
    "            exps = (math.exp((-(s[0]-m[0])**2-(s[1]-m[1])**2)) for s in samples)\n",
    "            knowledge[j] *= reduce(lambda x,y:x*y, exps) \n",
    "        knowledge /= np.sum(knowledge)\n",
    "    return knowledge\n",
    "\n",
    "def plot2(heatmap, mean1, mean2, N):\n",
    "    fig, ax1 = plt.subplots(1,1)\n",
    "    ax1.matshow(np.array(heatmap.reshape(N,N)), extent=[0,1,0,1])\n",
    "    ax1.scatter(mean1[0], 1 - mean1[1],c=\"red\", alpha=1, s=10)\n",
    "    ax1.scatter(mean2[0], 1 - mean2[1],c=\"blue\", alpha=1, s=10)\n",
    "    plt.show()\n",
    "\n",
    "\n",
    "mean1 = grid[random.randint(0, N*N-1)]\n",
    "mean2 = grid[random.randint(0, N*N-1)]\n",
    "knowledge = estimate2(N, nb_iters, nb_samples, cov, grid, mean1, mean2)\n",
    "plot2(knowledge, mean1, mean2, N)"
   ]
  },
  {
   "cell_type": "markdown",
   "metadata": {},
   "source": [
    "## Ćwiczenie 10 (4 pkt)\n",
    "(proszę najpierw przeczytać uwagę dodaną na czerwono w sekcji \"Podejście maximum likelihood\")\n",
    "\n",
    "Zdarzenie oznaczone $B_1$: Rzucamy dziesięć razy monetą i otrzymujemy wyniki ORZEŁ, ORZEŁ, RESZKA, RESZKA, ORZEŁ, RESZKA, ORZEŁ, ORZEŁ, ORZEŁ, ORZEŁ.\n",
    "\n",
    "Zdarzenie oznaczone $B_2$: Poprosiliśmy kolegę, żeby w naszym imieniu rzucił 10 razy monetą i zanotował wyniki. Kolega - w dobrej wierze - zliczał tylko liczbę orłów, wypadło ich 7.\n",
    "\n",
    "Udowodnić (matematycznie), że dla dowolnego rozkładu a priori parametru $\\theta$ zachodzi równość rozkładów a posteriori:\n",
    "$$P(\\theta\\mid B_1) = P(\\theta\\mid B_2)$$\n",
    "Innymi słowy, kolejność wyników rzutu monetą faktycznie nie niesie za sobą żadnej informacji, która jest przydatna przy estymowaniu parametru $\\theta$."
   ]
  },
  {
   "cell_type": "markdown",
   "metadata": {},
   "source": [
    "$$P(\\theta\\mid B_1) = P(\\theta\\mid B_2)$$\n",
    "$$P(\\theta\\mid B_1) = \\frac{P(B_1\\mid \\theta)\\,P(\\theta)}{P(B_1)}$$$$P(\\theta\\mid B_2) = \\frac{P(B_2\\mid \\theta)\\,P(\\theta)}{P(B_2)}$$\n",
    "$$ \\frac{P(B_1\\mid \\theta)\\,P(\\theta)}{P(B_1)} = \\frac{P(B_2\\mid \\theta)\\,P(\\theta)}{P(B_2)}$$\n",
    "$$ \\dfrac{(\\theta^{7}(1-\\theta)^{3})\\cdot P(\\theta)}{P(B_1)} = \\dfrac{120 *(\\theta^{7}(1-\\theta)^{3})\\cdot P(\\theta)}{P(B_1)*120}$$\n",
    "$$ \\frac{P(B_1\\mid \\theta)}{P(B_1)} = \\frac{120 * P(B_1\\mid \\theta)}{P(B_1)*120}$$\n",
    "$$ \\frac{P(B_1\\mid \\theta)}{P(B_1)} = \\frac{P(B_1\\mid \\theta)}{P(B_1)}$$\n"
   ]
  },
  {
   "cell_type": "code",
   "execution_count": null,
   "metadata": {
    "collapsed": true
   },
   "outputs": [],
   "source": []
  }
 ],
 "metadata": {
  "kernelspec": {
   "display_name": "Python 3",
   "language": "python",
   "name": "python3"
  },
  "language_info": {
   "codemirror_mode": {
    "name": "ipython",
    "version": 3
   },
   "file_extension": ".py",
   "mimetype": "text/x-python",
   "name": "python",
   "nbconvert_exporter": "python",
   "pygments_lexer": "ipython3",
   "version": "3.6.1"
  }
 },
 "nbformat": 4,
 "nbformat_minor": 2
}
