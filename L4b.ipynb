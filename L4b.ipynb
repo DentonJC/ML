{
 "cells": [
  {
   "cell_type": "markdown",
   "metadata": {
    "collapsed": true
   },
   "source": [
    "# Cwiczenie [3 pkt]\n",
    "\n",
    "Proszę :\n",
    "    1. Zapisać likelihood  modelu Naive Bayes w notacji jak powyżej (tj. p(Y | X, \\theta) = ?)\n",
    "    2. Zapisać wzór na estymator MLE w modelu Naive Bayes (w przypadku bernoulliego, tj. kiedy P(X_1 | Y) jest modelowane rozkładem bernoulliego) oraz uzasadnić jak do niego dojść w 1 zdaniu"
   ]
  },
  {
   "cell_type": "markdown",
   "metadata": {},
   "source": [
    "Likelihood modelu Naive Bayes:\n",
    "$$P( \\textbf{x}_0, \\ldots, \\textbf{x}_N | \\textbf{y}) = \\prod_{i=0}^{N} P(\\textbf{x}_{i} | \\textbf{y})$$"
   ]
  },
  {
   "cell_type": "code",
   "execution_count": null,
   "metadata": {
    "collapsed": true
   },
   "outputs": [],
   "source": []
  }
 ],
 "metadata": {
  "kernelspec": {
   "display_name": "Python 3",
   "language": "python",
   "name": "python3"
  },
  "language_info": {
   "codemirror_mode": {
    "name": "ipython",
    "version": 3
   },
   "file_extension": ".py",
   "mimetype": "text/x-python",
   "name": "python",
   "nbconvert_exporter": "python",
   "pygments_lexer": "ipython3",
   "version": "3.6.1"
  },
  "toc": {
   "toc_cell": false,
   "toc_number_sections": true,
   "toc_threshold": 6,
   "toc_window_display": false
  }
 },
 "nbformat": 4,
 "nbformat_minor": 2
}
