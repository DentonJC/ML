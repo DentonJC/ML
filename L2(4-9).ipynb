{
 "cells": [
  {
   "cell_type": "markdown",
   "metadata": {},
   "source": [
    "## Ćwiczenie 4 (1 pkt)\n",
    "\n",
    "Napisać klasę CoinMAP (Maximum A Posteriori) posiadającą metody fit i toss:\n",
    "- konstruktor - przyjmuje prior, który może np. być słownikiem (klucz - $\\theta$, wartość - jej prawdopodobieństwo a priori),\n",
    "- fit - przyjmuje listę obserwacji i uaktualnia self.knowledge, korzystając ze wzoru Bayesa, a następnie ustawia self.theta wybierając odpowiednią wartość z self.knowledge,\n",
    "- toss - generuje jeden rzut monetą z prawdopodobieństwem self.theta i zwraca 0 lub 1."
   ]
  },
  {
   "cell_type": "code",
   "execution_count": 3,
   "metadata": {
    "collapsed": false
   },
   "outputs": [
    {
     "name": "stdout",
     "output_type": "stream",
     "text": [
      "0.7\n",
      "Powinno wyjść 1: 1.00649710892\n",
      "0.8\n",
      "Powinno wyjść 1: 1.0076115949\n"
     ]
    }
   ],
   "source": [
    "import numpy as np\n",
    "import matplotlib.pylab as plt\n",
    "%matplotlib inline \n",
    "\n",
    "class CoinMAP(object):\n",
    "    def __init__(self, prior):\n",
    "        self.knowledge = prior\n",
    "        self.theta = max(self.knowledge)\n",
    "        \n",
    "    def fit(self, X):\n",
    "        pa = sum(X) / len(X) #new_theta\n",
    "        pb = pa**sum(X) * (1 - pa)**(1-sum(X)) #prawdopodobieństwo new_theta a priori \n",
    "        self.knowledge[pa] = pb #add new_theta\n",
    "        \n",
    "        for j in self.knowledge:\n",
    "            psum = 0\n",
    "            for i in self.knowledge:\n",
    "                psum += i * self.knowledge[i] #P(B)\n",
    "            self.knowledge[j] = j * self.knowledge[j] / psum #uaktualnia self.knowledge\n",
    "        \n",
    "        self.theta = max(self.knowledge)    \n",
    "\n",
    "    def toss(self):\n",
    "        if (self.theta == None):\n",
    "            return print(\"Fit the model first.\")\n",
    "        x = random.random()\n",
    "        if x < self.theta:\n",
    "            return 1\n",
    "        else:\n",
    "            return 0\n",
    "        \n",
    "model = CoinMAP({0.5: 0.8, 0.6: 0.2})\n",
    "model.fit(np.array([1,0,1,1,1,0,0,1,1,1]))\n",
    "print(model.theta)\n",
    "print(\"Powinno wyjść 1:\", sum(model.knowledge.values()))\n",
    "\n",
    "model = CoinMAP({0.5: 0.5, 0.6: 0.2, 0.8: 0.3})\n",
    "model.fit(np.array([1,0,1,1,1,0,0,1,1,1]))\n",
    "print(model.theta)\n",
    "print(\"Powinno wyjść 1:\", sum(model.knowledge.values()))"
   ]
  },
  {
   "cell_type": "markdown",
   "metadata": {},
   "source": [
    "## Ćwiczenie 5 (2 pkt)\n",
    "\n",
    "Napisać klasę CoinBest, która działa jak CoinMAP z tą różnicą, że self.theta jest obliczane powyższym wzorem, a nie wybierane spośród wartości self.knowledge."
   ]
  },
  {
   "cell_type": "code",
   "execution_count": 6,
   "metadata": {
    "collapsed": false
   },
   "outputs": [
    {
     "name": "stdout",
     "output_type": "stream",
     "text": [
      "0.703391414645\n",
      "Powinno wyjść 1: 1.00649710892\n",
      "0.704852182427\n",
      "Powinno wyjść 1: 1.0076115949\n"
     ]
    }
   ],
   "source": [
    "class CoinBest(object):\n",
    "    def __init__(self, prior):\n",
    "        self.knowledge = prior\n",
    "        self.theta = max(self.knowledge)\n",
    "        \n",
    "    def fit(self, X):\n",
    "        pa = sum(X) / len(X) #new_theta\n",
    "        pb = pa**sum(X) * (1 - pa)**(1-sum(X)) #prawdopodobieństwo new_theta a priori \n",
    "        self.knowledge[pa] = pb #add new_theta\n",
    "        \n",
    "        for j in self.knowledge:\n",
    "            psum = 0\n",
    "            for i in self.knowledge:\n",
    "                psum += i * self.knowledge[i] #P(B)\n",
    "            self.knowledge[j] = j * self.knowledge[j] / psum #uaktualnia self.knowledge\n",
    "        \n",
    "        nsum = 0\n",
    "        for n in self.knowledge:\n",
    "                nsum += n * self.knowledge[n] #P(ORZEŁ)\n",
    "        \n",
    "        self.theta = nsum\n",
    "\n",
    "    def toss(self):\n",
    "        if (self.theta == None):\n",
    "            return print(\"Fit the model first.\")\n",
    "        x = random.random()\n",
    "        if x < self.theta:\n",
    "            return 1\n",
    "        else:\n",
    "            return 0\n",
    "        \n",
    "model = CoinBest({0.5: 0.8, 0.6: 0.2})\n",
    "model.fit(np.array([1,0,1,1,1,0,0,1,1,1]))\n",
    "print(model.theta)\n",
    "print(\"Powinno wyjść 1:\", sum(model.knowledge.values()))\n",
    "\n",
    "model = CoinBest({0.5: 0.5, 0.6: 0.2, 0.8: 0.3})\n",
    "model.fit(np.array([1,0,1,1,1,0,0,1,1,1]))\n",
    "print(model.theta)\n",
    "print(\"Powinno wyjść 1:\", sum(model.knowledge.values()))"
   ]
  },
  {
   "cell_type": "code",
   "execution_count": null,
   "metadata": {
    "collapsed": true
   },
   "outputs": [],
   "source": []
  }
 ],
 "metadata": {
  "kernelspec": {
   "display_name": "Python 3",
   "language": "python",
   "name": "python3"
  },
  "language_info": {
   "codemirror_mode": {
    "name": "ipython",
    "version": 3
   },
   "file_extension": ".py",
   "mimetype": "text/x-python",
   "name": "python",
   "nbconvert_exporter": "python",
   "pygments_lexer": "ipython3",
   "version": "3.6.0"
  }
 },
 "nbformat": 4,
 "nbformat_minor": 2
}
