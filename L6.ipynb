{
 "cells": [
  {
   "cell_type": "code",
   "execution_count": 1,
   "metadata": {
    "collapsed": true
   },
   "outputs": [],
   "source": [
    "import matplotlib.pylab as plt\n",
    "%matplotlib inline\n",
    "import numpy as np\n",
    "from numpy.random import RandomState\n",
    "from itertools import product\n",
    "\n",
    "# dane\n",
    "from sklearn.datasets import fetch_mldata\n",
    "# splity\n",
    "from sklearn.model_selection import train_test_split\n",
    "from sklearn.model_selection import StratifiedKFold\n",
    "# modele\n",
    "from sklearn.neighbors import KNeighborsClassifier\n",
    "from sklearn.ensemble import RandomForestClassifier\n",
    "from sklearn.svm import LinearSVC, SVC\n",
    "# metryki\n",
    "from sklearn.metrics import accuracy_score\n",
    "\n",
    "mnist = fetch_mldata('MNIST original')\n",
    "X = mnist[\"data\"]\n",
    "y = mnist[\"target\"]\n",
    "\n",
    "# zawsze przed uczeniem/splitami proszę zrobić shuffle na danych!"
   ]
  },
  {
   "cell_type": "markdown",
   "metadata": {},
   "source": [
    "## Ćwiczenie 1 [2 pkt]\n",
    "\n",
    "Napisać trzy generatory zestawów hiperparametrów:\n",
    "* generator grid search [robimy wspólnie za 0 pkt],\n",
    "* generator k elementów random grid search,\n",
    "* generator k elementów random search.\n",
    "\n",
    "Hiperparametry podajemy jako słownik {nazwa_hiperparametru: lista_wartości/rozkład}.\n",
    "\n",
    "Generator ma yieldować słowniki {nazwa_hiperparametru: wartość_hiperparametru}\n",
    "\n",
    "Rozkłady prawdopodobieństwa możecie Państwo podawać w dowolny sposób - np. jako pythonową funkcję, jako string z nazwą (a możliwe rozkłady zakodować na sztywno w funkcji zwracającej generatory) itp. Proponuję zastosować konwencję opisaną w następnej komórce [czy ktoś z Państwa ma inny pomysł, jak podawać rozkłady?].\n",
    "\n",
    "Losowe generatory mają przyjmować random_state i działać deterministycznie przy ustalonym random_state (należy ustawić w środku seed generatora liczb losowych na random_state).\n"
   ]
  },
  {
   "cell_type": "code",
   "execution_count": 2,
   "metadata": {
    "collapsed": true
   },
   "outputs": [],
   "source": [
    "# Tworzymy fabryki samplerów, każda fabryka parametryzuje pewną rodzinę rozkładów prawdopodobieństwa\n",
    "# sampler pamięta jeden konkretny rozkład prawdopodobieństwa\n",
    "# jedynym argumentem samplera jest obiekt numpy.random.RandomState, który oznaczamy rng\n",
    "# sampler zwraca jedną wartość ze swojego rozkładu\n",
    "# ponieważ rng pamięta swój stan, to możemy np. raz stworzyć go na początku i podawać w pętli\n",
    "\n",
    "# rodzina rozkładów jednostajnych na podanych listach elementów\n",
    "# sampler losuje z rozkładu jednostajnego na liście l\n",
    "def uniform_from_list(l):\n",
    "    def sampler(rng):\n",
    "        return l[rng.randint(0,len(l))]\n",
    "    return sampler\n",
    "\n",
    "# rodzina rozkładów jednostajnych na przedziałach liczb całkowitych\n",
    "# sampler losuje z rozkładu jednostajnego na podzbiorze liczb całkowitych od low (włącznie) do high (wyłącznie)\n",
    "def uniform_int_on_interval(low, high):\n",
    "    def sampler(rng):\n",
    "        return rng.randint(low,high)\n",
    "    return sampler\n",
    "\n",
    "# rodzina rozkładów jednostajnych na przedziałach\n",
    "# sampler losuje z rozkładu jednostajnego na przedziale [low, high]\n",
    "def uniform_on_interval(low, high):\n",
    "    def sampler(rng):\n",
    "        return rng.uniform(low, high)\n",
    "    return sampler\n",
    "\n",
    "# rodzina rozkładów jednostajnych na przedziałach w wykładniku potęgi liczby 10\n",
    "# sampler losuje liczbę alpha z rozkładu jednostajnego na przedziale [low, high], a następnie zwraca 10^alpha\n",
    "def log_uniform_on_interval(low, high):\n",
    "    def sampler(rng):\n",
    "        return 10.**rng.uniform(low, high)\n",
    "    return sampler\n",
    "\n",
    "# rodzina rozkładów gaussa\n",
    "# sampler losuje liczbę z rozkładu N(mean, std^2)\n",
    "def normal(mean, std):\n",
    "    def sampler(rng):\n",
    "        return rng.normal(loc=mean, scale=std)\n",
    "    return sampler\n",
    "\n",
    "# rodzina rozkładów gaussa w wykładniku potęgi liczby 10\n",
    "# sampler losuje liczbę alpha z rozkładu N(mean, std^2), a następnie zwraca 10^alpha\n",
    "def log_normal(mean, std):\n",
    "    def sampler(rng):\n",
    "        return 10**rng.normal(loc=mean, scale=std)\n",
    "    return sampler"
   ]
  },
  {
   "cell_type": "code",
   "execution_count": 3,
   "metadata": {},
   "outputs": [
    {
     "name": "stdout",
     "output_type": "stream",
     "text": [
      "Tworzymy obiekt klasy RandomState\n",
      "Losujemy...\n",
      "-0.8425876123531107 0.0004724012431218285 0\n",
      "0.15332290941271645 543.8071598012017 -2\n",
      "-0.34175874759332137 1765.1325190834093 3\n",
      "-0.5937157748565142 8.329228890414763 -1\n",
      "\n",
      "Resetujemy RandomState\n",
      "Losujemy...\n",
      "-0.8425876123531107 0.0004724012431218285 0\n",
      "0.15332290941271645 543.8071598012017 -2\n",
      "-0.34175874759332137 1765.1325190834093 3\n",
      "-0.5937157748565142 8.329228890414763 -1\n",
      "\n",
      "Resetujemy RandomState\n",
      "Losujemy w innej kolejności, wypisujemy w starej...\n",
      "-1.5031075369240603 5.57429041086655 4\n",
      "0.3944672256011211 0.0004724012431218285 0\n",
      "0.34380796428337956 543.8071598012017 0\n",
      "-0.7751061702365221 1765.1325190834093 4\n",
      "\n",
      "samplery współdzielą rng, kolejność losowania ma znaczenie!\n"
     ]
    }
   ],
   "source": [
    "print(\"Tworzymy obiekt klasy RandomState\")\n",
    "rng = RandomState(743)\n",
    "s1 = normal(0.,1.)\n",
    "s2 = log_uniform_on_interval(-4.,4.)\n",
    "s3 = uniform_int_on_interval(-2,5)\n",
    "print(\"Losujemy...\")\n",
    "for _ in range(4):\n",
    "    print(s1(rng), s2(rng), s3(rng))\n",
    "\n",
    "print(\"\")\n",
    "print(\"Resetujemy RandomState\")\n",
    "rng = RandomState(743)\n",
    "s1 = normal(0.,1.)\n",
    "s2 = log_uniform_on_interval(-4.,4.)\n",
    "s3 = uniform_int_on_interval(-2,5)\n",
    "print(\"Losujemy...\")\n",
    "for _ in range(4):\n",
    "    print(s1(rng), s2(rng), s3(rng))\n",
    "\n",
    "print(\"\")\n",
    "print(\"Resetujemy RandomState\")\n",
    "rng = RandomState(743)\n",
    "s1 = normal(0.,1.)\n",
    "s2 = log_uniform_on_interval(-4.,4.)\n",
    "s3 = uniform_int_on_interval(-2,5)\n",
    "print(\"Losujemy w innej kolejności, wypisujemy w starej...\")\n",
    "for _ in range(4):\n",
    "    _s3 = s3(rng)\n",
    "    _s2 = s2(rng)\n",
    "    _s1 = s1(rng)\n",
    "    print(_s1, _s2, _s3)\n",
    "\n",
    "print(\"\")\n",
    "print(\"samplery współdzielą rng, kolejność losowania ma znaczenie!\")"
   ]
  },
  {
   "cell_type": "code",
   "execution_count": 4,
   "metadata": {},
   "outputs": [],
   "source": [
    "def grid_search(grid):\n",
    "    (keys, values_grid) = zip(*grid.items())\n",
    "    for values in product(*values_grid):\n",
    "        yield dict(zip(keys, values))\n",
    "\n",
    "def random_grid_search(grid, k=20, random_state=43):\n",
    "    rng = RandomState(random_state) # ustalamy jeden wspólny rng\n",
    "    # wysamplować k zestawów hiperparametrów\n",
    "    (keys, values_grid) = zip(*grid.items())\n",
    "    samplers = []\n",
    "    for i in values_grid:\n",
    "        samplers.append(uniform_from_list(i))\n",
    "    for i in range(k):\n",
    "        samples = []\n",
    "        for sampler in samplers:\n",
    "            samples.append(sampler(rng))\n",
    "        yield dict(zip(keys, samples))\n",
    "\n",
    "def random_search(grid, k=20, random_state=43):\n",
    "    rng = RandomState(random_state) # ustalamy jeden wspólny rng\n",
    "    (keys, samplers) = zip(*sorted(grid.items())) # sortujemy klucze, kolejność samplowania jest ważna!\n",
    "    # wysamplować k zestawów hiperparametrów\n",
    "    for i in range(k):\n",
    "        samples = []\n",
    "        for sampler in samplers:\n",
    "            samples.append(sampler(rng))\n",
    "        yield dict(zip(keys, samples))"
   ]
  },
  {
   "cell_type": "code",
   "execution_count": 5,
   "metadata": {},
   "outputs": [
    {
     "name": "stdout",
     "output_type": "stream",
     "text": [
      "{'C': 0.1, 'gamma': 0.0001}\n",
      "{'C': 0.1, 'gamma': 0.0003}\n",
      "{'C': 0.1, 'gamma': 0.001}\n",
      "{'C': 1.0, 'gamma': 0.0001}\n",
      "{'C': 1.0, 'gamma': 0.0003}\n",
      "{'C': 1.0, 'gamma': 0.001}\n",
      "{'C': 10.0, 'gamma': 0.0001}\n",
      "{'C': 10.0, 'gamma': 0.0003}\n",
      "{'C': 10.0, 'gamma': 0.001}\n",
      "{'C': 100.0, 'gamma': 0.0001}\n",
      "{'C': 100.0, 'gamma': 0.0003}\n",
      "{'C': 100.0, 'gamma': 0.001}\n"
     ]
    }
   ],
   "source": [
    "# assert dla grid_search\n",
    "for d in grid_search({'C': [0.1, 1., 10., 100.], 'gamma': [0.0001, 0.0003, 0.001]}):\n",
    "    print(d)"
   ]
  },
  {
   "cell_type": "markdown",
   "metadata": {},
   "source": [
    "{'C': 0.1, 'gamma': 0.0001}<br/>\n",
    "{'C': 0.1, 'gamma': 0.0003}<br/>\n",
    "{'C': 0.1, 'gamma': 0.001}<br/>\n",
    "{'C': 1.0, 'gamma': 0.0001}<br/>\n",
    "{'C': 1.0, 'gamma': 0.0003}<br/>\n",
    "{'C': 1.0, 'gamma': 0.001}<br/>\n",
    "{'C': 10.0, 'gamma': 0.0001}<br/>\n",
    "{'C': 10.0, 'gamma': 0.0003}<br/>\n",
    "{'C': 10.0, 'gamma': 0.001}<br/>\n",
    "{'C': 100.0, 'gamma': 0.0001}<br/>\n",
    "{'C': 100.0, 'gamma': 0.0003}<br/>\n",
    "{'C': 100.0, 'gamma': 0.001}"
   ]
  },
  {
   "cell_type": "code",
   "execution_count": 6,
   "metadata": {},
   "outputs": [
    {
     "name": "stdout",
     "output_type": "stream",
     "text": [
      "{'C': 0.1, 'gamma': 0.0001}\n"
     ]
    }
   ],
   "source": [
    "# assert dla random_grid_search\n",
    "# ma wyjść tak samo, jak random_search, tylko z podanymi samplerami uniform_from_list\n",
    "# proszę sobie sprawdzić we własnym zakresie, my uwierzymy na słowo\n",
    "for d in random_grid_search({'C': [0.1, 1., 10., 100.], 'gamma': [0.0001, 0.0003, 0.001]}, k = 1):\n",
    "    print(d)"
   ]
  },
  {
   "cell_type": "code",
   "execution_count": 7,
   "metadata": {},
   "outputs": [
    {
     "name": "stdout",
     "output_type": "stream",
     "text": [
      "{'C': 0.00014143134252521947, 'gamma': 0.06090665392794814, 'nb_sth': 9}\n",
      "{'C': 0.0025462216096392796, 'gamma': 0.03271390558111398, 'nb_sth': 13}\n",
      "{'C': 5.590022241698091e-05, 'gamma': 0.004505286023886656, 'nb_sth': 1}\n",
      "{'C': 1.950465371399982e-05, 'gamma': 0.0733748296280283, 'nb_sth': 13}\n",
      "{'C': 0.0002976304542098269, 'gamma': 0.0011286104130902254, 'nb_sth': 13}\n",
      "{'C': 3.705521747936987e-05, 'gamma': 0.08666486408992002, 'nb_sth': 22}\n",
      "{'C': 31.420766577465653, 'gamma': 0.05808772319264447, 'nb_sth': 22}\n",
      "{'C': 5.842880444285076e-05, 'gamma': 0.08432246942297046, 'nb_sth': 1}\n",
      "{'C': 16.058920736060898, 'gamma': 0.04037700398666926, 'nb_sth': 22}\n",
      "{'C': 35065.59811614318, 'gamma': 0.04457583608397189, 'nb_sth': 22}\n",
      "{'C': 6.683446823678905e-05, 'gamma': 0.08970985799815344, 'nb_sth': 13}\n",
      "{'C': 965.8767858660282, 'gamma': 0.0332329385020804, 'nb_sth': 1}\n",
      "{'C': 0.28068153065434537, 'gamma': 0.08247676837174123, 'nb_sth': 1}\n",
      "{'C': 12207.52376193616, 'gamma': 0.09101530757801567, 'nb_sth': 13}\n",
      "{'C': 0.00015294037493259258, 'gamma': 0.09375550594407336, 'nb_sth': 9}\n"
     ]
    }
   ],
   "source": [
    "for d in random_search(\n",
    "        {'C': log_uniform_on_interval(-5., 5.),\n",
    "         'nb_sth': uniform_from_list([1,4,9,13,22]),\n",
    "         'gamma': uniform_on_interval(0.,0.1)},         \n",
    "        k=15,\n",
    "        random_state=43):\n",
    "    print(d)"
   ]
  },
  {
   "cell_type": "markdown",
   "metadata": {},
   "source": [
    "{'C': 0.00014143134252521947, 'nb_sth': 9, 'gamma': 0.06090665392794814}<br/>\n",
    "{'C': 0.0025462216096392796, 'nb_sth': 13, 'gamma': 0.03271390558111398}<br/>\n",
    "{'C': 5.590022241698091e-05, 'nb_sth': 1, 'gamma': 0.004505286023886656}<br/>\n",
    "{'C': 1.950465371399982e-05, 'nb_sth': 13, 'gamma': 0.0733748296280283}<br/>\n",
    "{'C': 0.0002976304542098269, 'nb_sth': 13, 'gamma': 0.0011286104130902254}<br/>\n",
    "{'C': 3.705521747936987e-05, 'nb_sth': 22, 'gamma': 0.08666486408992002}<br/>\n",
    "{'C': 31.420766577465653, 'nb_sth': 22, 'gamma': 0.05808772319264447}<br/>\n",
    "{'C': 5.842880444285076e-05, 'nb_sth': 1, 'gamma': 0.08432246942297046}<br/>\n",
    "{'C': 16.058920736060898, 'nb_sth': 22, 'gamma': 0.04037700398666926}<br/>\n",
    "{'C': 35065.59811614318, 'nb_sth': 22, 'gamma': 0.04457583608397189}<br/>\n",
    "{'C': 6.683446823678905e-05, 'nb_sth': 13, 'gamma': 0.08970985799815344}<br/>\n",
    "{'C': 965.8767858660282, 'nb_sth': 1, 'gamma': 0.0332329385020804}<br/>\n",
    "{'C': 0.28068153065434537, 'nb_sth': 1, 'gamma': 0.08247676837174123}<br/>\n",
    "{'C': 12207.52376193616, 'nb_sth': 13, 'gamma': 0.09101530757801567}<br/>\n",
    "{'C': 0.00015294037493259258, 'nb_sth': 9, 'gamma': 0.09375550594407336}"
   ]
  },
  {
   "cell_type": "markdown",
   "metadata": {},
   "source": [
    "## Ćwiczenie 3 [4 pkt]\n",
    "\n",
    "Zaimplementować algorytm model selection z użyciem podwójnej cross validation (StratifiedKFold w sklearn) zgodnie z opisem w sekcji \"Podsumowanie\"."
   ]
  },
  {
   "cell_type": "code",
   "execution_count": 8,
   "metadata": {},
   "outputs": [],
   "source": [
    "def double_skf_model_evaluation(Model, generator_function, generator_function_kwargs, X, y, metric, selection_n_splits, evaluation_n_splits, random_state):\n",
    "    \"\"\"\n",
    "    Model - klasa modelu\n",
    "    generator_function, generator_function_kwargs - chcemy zrobić coś w stylu:\n",
    "        for hyperparams in generator_function(**generator_function_kwargs):\n",
    "            ...\n",
    "        nie podajemy wprost generatora, bo trzeba go użyć wielokrotnie, a generatorów (chyba?) nie da się kopiować\n",
    "    X,y - dane i etykiety\n",
    "    metric - funkcja o sygnaturze metric(y_true, y_pred), która ocenia skuteczność nauczonego modelu\n",
    "    selection/evaluation_n_splits - liczba splitów/foldów w odpowiednim cross validation\n",
    "    random_state - używany wszędzie tam, gdzie trzeba\n",
    "    \"\"\"\n",
    "\n",
    "    scores = []\n",
    "    \n",
    "    # 1. Dzielimy evaluation_n_splits razy (X,y) na (X_train,y_train), (X_test,y_test).\n",
    "    skf = StratifiedKFold(n_splits = evaluation_n_splits, random_state = random_state, shuffle = True)\n",
    "    # 2. Dla każdego takiego podziału:\n",
    "    for i_train, i_test in skf.split(X, y):\n",
    "        X_train = X[i_train] \n",
    "        y_train = y[i_train]\n",
    "        X_test = X[i_test]\n",
    "        y_test = y[i_test]\n",
    "\n",
    "        # 1. Dzielimy selection_n_splits razy (X_train,y_train) na (X_train2,y_train2), (X_valid,y_valid).\n",
    "        skf2 = StratifiedKFold(n_splits = selection_n_splits, random_state = random_state, shuffle = True)\n",
    "            \n",
    "        h_table = []\n",
    "        s_table = []\n",
    "        # 2. Dla każdego zestawu hiperparametrów:\n",
    "        for hyperparams in generator_function(generator_function_kwargs):\n",
    "            # 1. Dla każdego podziału (X_train2,y_train2), (X_valid,y_valid):\n",
    "            h_table.append(hyperparams)\n",
    "            mean_score = 0\n",
    "            for i_train2, i_valid in skf2.split(X_train, y_train):\n",
    "                X_train2 = X[i_train2] \n",
    "                y_train2 = y[i_train2]\n",
    "                X_valid = X[i_valid]\n",
    "                y_valid = y[i_valid]\n",
    "                # 1. Tworzymy model = Model(zestaw_hiperparametrów).\n",
    "                model = Model(**hyperparams)\n",
    "                # 2. Uczymy model na (X_train2,y_train2), testujemy na (X_valid,y_valid) i otrzymujemy score.\n",
    "                model.fit(X_train2, y_train2)\n",
    "                score = metric(y_valid, model.predict(X_valid))\n",
    "                # 3. (zestaw_hiperparametrów, score) zapisujemy w tabelce.\n",
    "                mean_score += score\n",
    "            s_table.append(mean_score)\n",
    "                \n",
    "        # 3. Dla każdego zestawu hiperparametrów mamy trzy różne score z trzech podziałów - uśredniamy je.        \n",
    "        # 4. Wybieramy średnio najlepszy zestaw hiperparametrów.\n",
    "        i = np.argmax(s_table)\n",
    "        final_hyperparams = h_table[i]\n",
    "        # 5. Tworzymy model = Model(średnio_najlepszy_zestaw_hiperparametrów) i uczymy na całym (X_train,y_train).\n",
    "        model = Model(**final_hyperparams)\n",
    "        model.fit(X_train, y_train)\n",
    "        # 6. Testujemy model na (X_test,y_test) i otrzymujemy evaluation_score, zapisujemy go.\n",
    "        scores.append(metric(y_test, model.predict(X_test)))\n",
    "    # 3. Uśredniamy trzy evaluation_score, zwracamy średnią jako ostateczny score Modelu.\n",
    "    final_score = np.mean(scores)\n",
    "    return final_hyperparams, final_score"
   ]
  },
  {
   "cell_type": "markdown",
   "metadata": {},
   "source": [
    "## Ćwiczenie 4 [2 pkt]\n",
    "\n",
    "Przy użyciu powyższych funkcji wytrenować porządnie na danych MNIST jeden (dowolnie wybrany) z poniższych modelów:\n",
    "* LinearSVM,\n",
    "* SVM,\n",
    "* RandomForest,\n",
    "* KNN.\n",
    "\n",
    "Zwrócić model i jego estymowany score.\n",
    "\n",
    "[Możemy wspólnie zastanowić się nad sensownym doborem gridów/rozkładów na hiperparametrach.]"
   ]
  },
  {
   "cell_type": "code",
   "execution_count": 9,
   "metadata": {},
   "outputs": [
    {
     "name": "stdout",
     "output_type": "stream",
     "text": [
      "Model:  {'n_neighbors': 5, 'leaf_size': 20}  score:  0.906665291851\n"
     ]
    }
   ],
   "source": [
    "idx = np.random.RandomState(743).permutation(len(y))\n",
    "_X = X[idx[:3000]]\n",
    "_y = y[idx[:3000]]\n",
    "\n",
    "\n",
    "model, score = double_skf_model_evaluation(\n",
    "    Model = KNeighborsClassifier,\n",
    "    generator_function = grid_search,\n",
    "    generator_function_kwargs = {'n_neighbors': [2,5,8], 'leaf_size': [20,30,40]},\n",
    "    X=_X, y=_y,\n",
    "    metric=accuracy_score,\n",
    "    selection_n_splits=2,\n",
    "    evaluation_n_splits=2,\n",
    "    random_state=43)\n",
    "\n",
    "print(\"Model: \", model, \" score: \", score)"
   ]
  },
  {
   "cell_type": "markdown",
   "metadata": {},
   "source": [
    "## Data augmentation\n",
    "\n",
    "Model zawsze nauczy się lepiej na większym zbiorze danych. Przez data augmentation rozumiemy cały zbiór technik, które pozwalają \"sztucznie\" niskim kosztem powiększyć dataset. Oczywiście musimy znać etykiety nowowygenerowanych danych. Zazwyczaj działamy w następujący sposób: definiujemy operację, którą możemy zadziałać na pojedynczy $\\mathbf{x}$ bez zmiany odpowiadającego mu $y$, a następnie generujemy z jednego $\\mathbf{x}$ dużo wersji i każdej przypisujemy to samo $y$.\n",
    "\n",
    "Kilka prostych przykładów:\n",
    "* rozpoznawanie mowy ($\\mathbf{x}$ - zapis dźwiękowy, $y$ - tekst wypowiadany przez lektora) - zmieniamy szybkość mówienia, zmieniamy wysokość dźwięku itp.\n",
    "* klasyfikacja obrazków - obracamy obrazki, odbijamy symetrycznie, dodajemy szum, zmieniamy nieco paletę barw itp.\n",
    "\n",
    "Spróbujmy zobaczyć dla przykładu, co się stanie, gdy dodamy gaussowski szum do MNISTa."
   ]
  },
  {
   "cell_type": "code",
   "execution_count": 10,
   "metadata": {
    "collapsed": true
   },
   "outputs": [],
   "source": [
    "mnist = fetch_mldata('MNIST original')\n",
    "X = mnist[\"data\"]\n",
    "y = mnist[\"target\"]\n",
    "idx = np.random.permutation(len(y))\n",
    "X = X[idx[:3000]]\n",
    "y = y[idx[:3000]]"
   ]
  },
  {
   "cell_type": "code",
   "execution_count": 11,
   "metadata": {},
   "outputs": [
    {
     "name": "stdout",
     "output_type": "stream",
     "text": [
      "fitting KNN (no augmentation)\n",
      "train accuracy: 1.0\n",
      "test accuracy: 0.894949494949\n"
     ]
    }
   ],
   "source": [
    "X_train, X_test, y_train, y_test = train_test_split(X, y, test_size=0.33, random_state=43)\n",
    "\n",
    "model = KNeighborsClassifier(n_neighbors=1)\n",
    "print(\"fitting KNN (no augmentation)\")\n",
    "model.fit(X_train, y_train)\n",
    "print(\"train accuracy:\", accuracy_score(y_train, model.predict(X_train)))\n",
    "print(\"test accuracy:\", accuracy_score(y_test, model.predict(X_test)))"
   ]
  },
  {
   "cell_type": "code",
   "execution_count": null,
   "metadata": {},
   "outputs": [
    {
     "name": "stdout",
     "output_type": "stream",
     "text": [
      "Augmenting data...\n"
     ]
    },
    {
     "data": {
      "image/png": "[encoded data removed]",
      "text/plain": [
       "<matplotlib.figure.Figure at 0x7fce58634fd0>"
      ]
     },
     "metadata": {},
     "output_type": "display_data"
    },
    {
     "data": {
      "image/png": "[encoded data removed]",
      "text/plain": [
       "<matplotlib.figure.Figure at 0x7fce9e717518>"
      ]
     },
     "metadata": {},
     "output_type": "display_data"
    }
   ],
   "source": [
    "print(\"Augmenting data...\")\n",
    "_X = [X.copy()]\n",
    "_y = [y.copy()]\n",
    "for i in range(7):\n",
    "    _X.append(X.copy() + np.random.normal(scale=3, size=X.shape))\n",
    "    _y.append(y.copy())\n",
    "X_aug = np.vstack(_X)\n",
    "y_aug = np.hstack(_y)\n",
    "\n",
    "plt.imshow(X[-1].reshape(28,28), cmap=\"gray\")\n",
    "plt.show()\n",
    "plt.imshow(X_aug[-1].reshape(28,28), cmap=\"gray\")\n",
    "plt.show()"
   ]
  },
  {
   "cell_type": "code",
   "execution_count": null,
   "metadata": {},
   "outputs": [
    {
     "name": "stdout",
     "output_type": "stream",
     "text": [
      "fitting KNN (with augmentation)\n",
      "train accuracy: 1.0\n"
     ]
    }
   ],
   "source": [
    "X_train, X_test, y_train, y_test = train_test_split(X_aug, y_aug, test_size=0.33, random_state=43)\n",
    "\n",
    "model = KNeighborsClassifier(n_neighbors=1)\n",
    "print(\"fitting KNN (with augmentation)\")\n",
    "model.fit(X_train, y_train)\n",
    "print(\"train accuracy:\", accuracy_score(y_train, model.predict(X_train)))\n",
    "print(\"test accuracy:\", accuracy_score(y_test, model.predict(X_test)))"
   ]
  },
  {
   "cell_type": "markdown",
   "metadata": {},
   "source": [
    "Hurra! Po dodaniu stosunkowo prostej augmentacji danych nasz model nauczył się perfekcyjnie generalizować na zbiór testowy! I nie musieliśmy tu stosować żadnej skomplikowanej sieci neuronowej, wystarczył KNN."
   ]
  },
  {
   "cell_type": "markdown",
   "metadata": {},
   "source": [
    "## Ćwiczenie 5 (4 pkt)\n",
    "\n",
    "Wytłumaczyć, na czym polega błąd w powyższym rozumowaniu."
   ]
  },
  {
   "cell_type": "markdown",
   "metadata": {},
   "source": [
    "The mistake is that we use train_test_split on the augmented data, so the test set includes data from the training set only with a little noise, and the probability that there will be new, significantly different data in the test set is small. To avoid this, data augmentation should be used only for the training set."
   ]
  }
 ],
 "metadata": {
  "kernelspec": {
   "display_name": "Python 3",
   "language": "python",
   "name": "python3"
  },
  "language_info": {
   "codemirror_mode": {
    "name": "ipython",
    "version": 3
   },
   "file_extension": ".py",
   "mimetype": "text/x-python",
   "name": "python",
   "nbconvert_exporter": "python",
   "pygments_lexer": "ipython3",
   "version": "3.6.1"
  }
 },
 "nbformat": 4,
 "nbformat_minor": 2
}
